{
 "cells": [
  {
   "cell_type": "markdown",
   "metadata": {
    "id": "CNaOde23ENMD"
   },
   "source": [
    "## **Data**"
   ]
  },
  {
   "cell_type": "markdown",
   "metadata": {
    "id": "X9esYvM9EbUQ"
   },
   "source": [
    "Download the .csv  data file [skynet](https://drive.google.com/file/d/1FndFVKzEBr3qllD_Gq8InmAdjB55Gd3N/view?usp=sharing)\n",
    "\n",
    "The data isn't sussy baka, I promise"
   ]
  },
  {
   "cell_type": "markdown",
   "metadata": {
    "id": "wUdfHqSS3lFz"
   },
   "source": [
    "## **Background**"
   ]
  },
  {
   "cell_type": "markdown",
   "metadata": {
    "id": "K-aLo0YI5ixj"
   },
   "source": [
    "This dataset comes from research by Semeion, Research Center of Sciences of Communication. The original aim of the research was to correctly classify the type of surface defects in stainless steel plates, with six types of possible defects (plus \"other\"). The Input vector was made up of 27 indicators that approximately describe the geometric shape of the defect and its outline. According to the research paper, Semeion was commissioned by the Centro Sviluppo Materiali (Italy) for this task and therefore it is not possible to provide details on the nature of the 27 indicators used as Input vectors or the types of the 6 classes of defects. \n",
    "\n",
    "\n",
    "**Acknowledgements**\n",
    "\n",
    "Lichman, M. (2013). UCI Machine Learning Repository [http://archive.ics.uci.edu/ml]. Irvine, CA: University of California, School of Information and Computer Science.\n",
    "\n",
    "Kaggle [https://www.kaggle.com/uciml/faulty-steel-plates]\n",
    "\n"
   ]
  },
  {
   "cell_type": "markdown",
   "metadata": {
    "id": "oLuCjFI3_pnp"
   },
   "source": [
    "## **Project Objective**\n",
    "\n"
   ]
  },
  {
   "cell_type": "markdown",
   "metadata": {
    "id": "BFspIiX0_xXd"
   },
   "source": [
    "Design and train an AI which correctly classifies the data into one of seven classes. The classes can be seen in the \"Labels\" column in the \"defects.csv\" file provided. Each class in the dataset is encoded into by a number, seen below. This project is sectioned into several milestones to provide a timeline and a sequence of tasks that need to be completed.\n",
    "\n",
    "*  0 = Pastry\n",
    "*  1 = Z_Scratch\n",
    "*  2 = K_Scratch\n",
    "*  3 = Stains\n",
    "*  4 = Dirt\n",
    "*  5 = Bumps\n",
    "*  6 = Other faults\n",
    "\n",
    "The most important thing you can take away from this project is the theory behind AI for numerical data.\n",
    "\n",
    "\n",
    "\n",
    "\n",
    "\n"
   ]
  },
  {
   "cell_type": "markdown",
   "metadata": {
    "id": "q74f9zMO3fU8"
   },
   "source": [
    "## **Milestone 1**\n",
    "\n",
    "*   Read the data\n",
    "*   Perform visualizations to better understand the data\n"
   ]
  },
  {
   "cell_type": "code",
   "execution_count": null,
   "metadata": {
    "id": "0RBgEX6f_jD9"
   },
   "outputs": [],
   "source": []
  },
  {
   "cell_type": "markdown",
   "metadata": {
    "id": "cPtoJ1mdKyuT"
   },
   "source": [
    "## **Milestone 2**\n",
    "\n",
    "*   Data preprocessing\n",
    "*   Train-test-split\n",
    "*   Categorize labels"
   ]
  },
  {
   "cell_type": "code",
   "execution_count": null,
   "metadata": {
    "id": "i8J_kHUxNMhJ"
   },
   "outputs": [],
   "source": []
  },
  {
   "cell_type": "markdown",
   "metadata": {
    "id": "ueMIzizDNHLG"
   },
   "source": [
    "## **Milestone 3**\n",
    "\n",
    "*   Network architecture\n",
    "*   Train network"
   ]
  },
  {
   "cell_type": "code",
   "execution_count": null,
   "metadata": {
    "id": "BwFRr6KN3ceW"
   },
   "outputs": [],
   "source": []
  },
  {
   "cell_type": "markdown",
   "metadata": {
    "id": "9SVuqTsyOoUp"
   },
   "source": [
    "## **Milestone 4**\n",
    "\n",
    "\n",
    "\n",
    "*   Evaluate AI performance\n",
    "*   Test AI\n",
    "\n"
   ]
  },
  {
   "cell_type": "code",
   "execution_count": null,
   "metadata": {
    "id": "dflXWGzSOovR"
   },
   "outputs": [],
   "source": []
  }
 ],
 "metadata": {
  "colab": {
   "collapsed_sections": [],
   "name": "Defect Classification.ipynb",
   "provenance": []
  },
  "kernelspec": {
   "display_name": "Python 3",
   "name": "python3"
  },
  "language_info": {
   "name": "python"
  }
 },
 "nbformat": 4,
 "nbformat_minor": 0
}
