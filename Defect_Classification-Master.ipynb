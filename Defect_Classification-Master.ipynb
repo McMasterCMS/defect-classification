{
 "cells": [
  {
   "cell_type": "markdown",
   "metadata": {
    "id": "CNaOde23ENMD"
   },
   "source": [
    "## **Data**"
   ]
  },
  {
   "cell_type": "markdown",
   "metadata": {
    "id": "X9esYvM9EbUQ"
   },
   "source": [
    "Download the .csv  data file [skynet](https://drive.google.com/file/d/1FndFVKzEBr3qllD_Gq8InmAdjB55Gd3N/view?usp=sharing)\n",
    "\n",
    "The data isn't sussy baka, I promise"
   ]
  },
  {
   "cell_type": "markdown",
   "metadata": {
    "id": "wUdfHqSS3lFz"
   },
   "source": [
    "## **Background**"
   ]
  },
  {
   "cell_type": "markdown",
   "metadata": {
    "id": "K-aLo0YI5ixj"
   },
   "source": [
    "This dataset comes from research by Semeion, Research Center of Sciences of Communication. The original aim of the research was to correctly classify the type of surface defects in stainless steel plates, with six types of possible defects (plus \"other\"). The Input vector was made up of 27 indicators that approximately describe the geometric shape of the defect and its outline. According to the research paper, Semeion was commissioned by the Centro Sviluppo Materiali (Italy) for this task and therefore it is not possible to provide details on the nature of the 27 indicators used as Input vectors or the types of the 6 classes of defects. \n",
    "\n",
    "\n",
    "**Acknowledgements**\n",
    "\n",
    "Lichman, M. (2013). UCI Machine Learning Repository [http://archive.ics.uci.edu/ml]. Irvine, CA: University of California, School of Information and Computer Science.\n",
    "\n",
    "Kaggle [https://www.kaggle.com/uciml/faulty-steel-plates]\n",
    "\n"
   ]
  },
  {
   "cell_type": "markdown",
   "metadata": {
    "id": "oLuCjFI3_pnp"
   },
   "source": [
    "## **Project Objective**\n",
    "\n"
   ]
  },
  {
   "cell_type": "markdown",
   "metadata": {
    "id": "BFspIiX0_xXd"
   },
   "source": [
    "Design and train an AI which correctly classifies the data into one of seven classes. The classes can be seen in the \"Labels\" column in the \"defects.csv\" file provided. Each class in the dataset is encoded into by a number, seen below. This project is sectioned into several milestones to provide a timeline and a sequence of tasks that need to be completed.\n",
    "\n",
    "*  0 = Pastry\n",
    "*  1 = Z_Scratch\n",
    "*  2 = K_Scratch\n",
    "*  3 = Stains\n",
    "*  4 = Dirt\n",
    "*  5 = Bumps\n",
    "*  6 = Other faults\n",
    "\n",
    "The most important thing you can take away from this project is the theory behind AI for numerical data.\n",
    "\n",
    "\n",
    "\n",
    "\n",
    "\n"
   ]
  },
  {
   "cell_type": "markdown",
   "metadata": {
    "id": "q74f9zMO3fU8"
   },
   "source": [
    "## **Milestone 1**\n",
    "\n",
    "*   Read the data\n",
    "*   Perform visualizations to better understand the data\n"
   ]
  },
  {
   "cell_type": "code",
   "execution_count": 2,
   "metadata": {},
   "outputs": [],
   "source": [
    "%matplotlib inline\n",
    "import pandas as pd\n",
    "import numpy as np\n",
    "import matplotlib.pyplot as plt\n",
    "import seaborn as sns\n",
    "\n",
    "from jupyterthemes import jtplot #for making plots appear with same theme\n",
    "jtplot.style(theme='chesterish', context='notebook', ticks=True, grid=False)"
   ]
  },
  {
   "cell_type": "code",
   "execution_count": 4,
   "metadata": {
    "id": "0RBgEX6f_jD9"
   },
   "outputs": [],
   "source": [
    "#read data\n",
    "df = pd.read_csv(\"defects.csv\")"
   ]
  },
  {
   "cell_type": "code",
   "execution_count": 5,
   "metadata": {},
   "outputs": [
    {
     "data": {
      "text/html": [
       "<div>\n",
       "<style scoped>\n",
       "    .dataframe tbody tr th:only-of-type {\n",
       "        vertical-align: middle;\n",
       "    }\n",
       "\n",
       "    .dataframe tbody tr th {\n",
       "        vertical-align: top;\n",
       "    }\n",
       "\n",
       "    .dataframe thead th {\n",
       "        text-align: right;\n",
       "    }\n",
       "</style>\n",
       "<table border=\"1\" class=\"dataframe\">\n",
       "  <thead>\n",
       "    <tr style=\"text-align: right;\">\n",
       "      <th></th>\n",
       "      <th>Unnamed: 0</th>\n",
       "      <th>X_Minimum</th>\n",
       "      <th>X_Maximum</th>\n",
       "      <th>Y_Minimum</th>\n",
       "      <th>Y_Maximum</th>\n",
       "      <th>Pixels_Areas</th>\n",
       "      <th>X_Perimeter</th>\n",
       "      <th>Y_Perimeter</th>\n",
       "      <th>Sum_of_Luminosity</th>\n",
       "      <th>Minimum_of_Luminosity</th>\n",
       "      <th>...</th>\n",
       "      <th>Edges_X_Index</th>\n",
       "      <th>Edges_Y_Index</th>\n",
       "      <th>Outside_Global_Index</th>\n",
       "      <th>LogOfAreas</th>\n",
       "      <th>Log_X_Index</th>\n",
       "      <th>Log_Y_Index</th>\n",
       "      <th>Orientation_Index</th>\n",
       "      <th>Luminosity_Index</th>\n",
       "      <th>SigmoidOfAreas</th>\n",
       "      <th>Labels</th>\n",
       "    </tr>\n",
       "  </thead>\n",
       "  <tbody>\n",
       "    <tr>\n",
       "      <th>0</th>\n",
       "      <td>0</td>\n",
       "      <td>42</td>\n",
       "      <td>50</td>\n",
       "      <td>270900</td>\n",
       "      <td>270944</td>\n",
       "      <td>267</td>\n",
       "      <td>17</td>\n",
       "      <td>44</td>\n",
       "      <td>24220</td>\n",
       "      <td>76</td>\n",
       "      <td>...</td>\n",
       "      <td>0.4706</td>\n",
       "      <td>1.0000</td>\n",
       "      <td>1.0</td>\n",
       "      <td>2.4265</td>\n",
       "      <td>0.9031</td>\n",
       "      <td>1.6435</td>\n",
       "      <td>0.8182</td>\n",
       "      <td>-0.2913</td>\n",
       "      <td>0.5822</td>\n",
       "      <td>0</td>\n",
       "    </tr>\n",
       "    <tr>\n",
       "      <th>1</th>\n",
       "      <td>1</td>\n",
       "      <td>645</td>\n",
       "      <td>651</td>\n",
       "      <td>2538079</td>\n",
       "      <td>2538108</td>\n",
       "      <td>108</td>\n",
       "      <td>10</td>\n",
       "      <td>30</td>\n",
       "      <td>11397</td>\n",
       "      <td>84</td>\n",
       "      <td>...</td>\n",
       "      <td>0.6000</td>\n",
       "      <td>0.9667</td>\n",
       "      <td>1.0</td>\n",
       "      <td>2.0334</td>\n",
       "      <td>0.7782</td>\n",
       "      <td>1.4624</td>\n",
       "      <td>0.7931</td>\n",
       "      <td>-0.1756</td>\n",
       "      <td>0.2984</td>\n",
       "      <td>0</td>\n",
       "    </tr>\n",
       "    <tr>\n",
       "      <th>2</th>\n",
       "      <td>2</td>\n",
       "      <td>829</td>\n",
       "      <td>835</td>\n",
       "      <td>1553913</td>\n",
       "      <td>1553931</td>\n",
       "      <td>71</td>\n",
       "      <td>8</td>\n",
       "      <td>19</td>\n",
       "      <td>7972</td>\n",
       "      <td>99</td>\n",
       "      <td>...</td>\n",
       "      <td>0.7500</td>\n",
       "      <td>0.9474</td>\n",
       "      <td>1.0</td>\n",
       "      <td>1.8513</td>\n",
       "      <td>0.7782</td>\n",
       "      <td>1.2553</td>\n",
       "      <td>0.6667</td>\n",
       "      <td>-0.1228</td>\n",
       "      <td>0.2150</td>\n",
       "      <td>0</td>\n",
       "    </tr>\n",
       "    <tr>\n",
       "      <th>3</th>\n",
       "      <td>3</td>\n",
       "      <td>853</td>\n",
       "      <td>860</td>\n",
       "      <td>369370</td>\n",
       "      <td>369415</td>\n",
       "      <td>176</td>\n",
       "      <td>13</td>\n",
       "      <td>45</td>\n",
       "      <td>18996</td>\n",
       "      <td>99</td>\n",
       "      <td>...</td>\n",
       "      <td>0.5385</td>\n",
       "      <td>1.0000</td>\n",
       "      <td>1.0</td>\n",
       "      <td>2.2455</td>\n",
       "      <td>0.8451</td>\n",
       "      <td>1.6532</td>\n",
       "      <td>0.8444</td>\n",
       "      <td>-0.1568</td>\n",
       "      <td>0.5212</td>\n",
       "      <td>0</td>\n",
       "    </tr>\n",
       "    <tr>\n",
       "      <th>4</th>\n",
       "      <td>4</td>\n",
       "      <td>1289</td>\n",
       "      <td>1306</td>\n",
       "      <td>498078</td>\n",
       "      <td>498335</td>\n",
       "      <td>2409</td>\n",
       "      <td>60</td>\n",
       "      <td>260</td>\n",
       "      <td>246930</td>\n",
       "      <td>37</td>\n",
       "      <td>...</td>\n",
       "      <td>0.2833</td>\n",
       "      <td>0.9885</td>\n",
       "      <td>1.0</td>\n",
       "      <td>3.3818</td>\n",
       "      <td>1.2305</td>\n",
       "      <td>2.4099</td>\n",
       "      <td>0.9338</td>\n",
       "      <td>-0.1992</td>\n",
       "      <td>1.0000</td>\n",
       "      <td>0</td>\n",
       "    </tr>\n",
       "    <tr>\n",
       "      <th>...</th>\n",
       "      <td>...</td>\n",
       "      <td>...</td>\n",
       "      <td>...</td>\n",
       "      <td>...</td>\n",
       "      <td>...</td>\n",
       "      <td>...</td>\n",
       "      <td>...</td>\n",
       "      <td>...</td>\n",
       "      <td>...</td>\n",
       "      <td>...</td>\n",
       "      <td>...</td>\n",
       "      <td>...</td>\n",
       "      <td>...</td>\n",
       "      <td>...</td>\n",
       "      <td>...</td>\n",
       "      <td>...</td>\n",
       "      <td>...</td>\n",
       "      <td>...</td>\n",
       "      <td>...</td>\n",
       "      <td>...</td>\n",
       "      <td>...</td>\n",
       "    </tr>\n",
       "    <tr>\n",
       "      <th>1936</th>\n",
       "      <td>1936</td>\n",
       "      <td>249</td>\n",
       "      <td>277</td>\n",
       "      <td>325780</td>\n",
       "      <td>325796</td>\n",
       "      <td>273</td>\n",
       "      <td>54</td>\n",
       "      <td>22</td>\n",
       "      <td>35033</td>\n",
       "      <td>119</td>\n",
       "      <td>...</td>\n",
       "      <td>0.5185</td>\n",
       "      <td>0.7273</td>\n",
       "      <td>0.0</td>\n",
       "      <td>2.4362</td>\n",
       "      <td>1.4472</td>\n",
       "      <td>1.2041</td>\n",
       "      <td>-0.4286</td>\n",
       "      <td>0.0026</td>\n",
       "      <td>0.7254</td>\n",
       "      <td>6</td>\n",
       "    </tr>\n",
       "    <tr>\n",
       "      <th>1937</th>\n",
       "      <td>1937</td>\n",
       "      <td>144</td>\n",
       "      <td>175</td>\n",
       "      <td>340581</td>\n",
       "      <td>340598</td>\n",
       "      <td>287</td>\n",
       "      <td>44</td>\n",
       "      <td>24</td>\n",
       "      <td>34599</td>\n",
       "      <td>112</td>\n",
       "      <td>...</td>\n",
       "      <td>0.7046</td>\n",
       "      <td>0.7083</td>\n",
       "      <td>0.0</td>\n",
       "      <td>2.4579</td>\n",
       "      <td>1.4914</td>\n",
       "      <td>1.2305</td>\n",
       "      <td>-0.4516</td>\n",
       "      <td>-0.0582</td>\n",
       "      <td>0.8173</td>\n",
       "      <td>6</td>\n",
       "    </tr>\n",
       "    <tr>\n",
       "      <th>1938</th>\n",
       "      <td>1938</td>\n",
       "      <td>145</td>\n",
       "      <td>174</td>\n",
       "      <td>386779</td>\n",
       "      <td>386794</td>\n",
       "      <td>292</td>\n",
       "      <td>40</td>\n",
       "      <td>22</td>\n",
       "      <td>37572</td>\n",
       "      <td>120</td>\n",
       "      <td>...</td>\n",
       "      <td>0.7250</td>\n",
       "      <td>0.6818</td>\n",
       "      <td>0.0</td>\n",
       "      <td>2.4654</td>\n",
       "      <td>1.4624</td>\n",
       "      <td>1.1761</td>\n",
       "      <td>-0.4828</td>\n",
       "      <td>0.0052</td>\n",
       "      <td>0.7079</td>\n",
       "      <td>6</td>\n",
       "    </tr>\n",
       "    <tr>\n",
       "      <th>1939</th>\n",
       "      <td>1939</td>\n",
       "      <td>137</td>\n",
       "      <td>170</td>\n",
       "      <td>422497</td>\n",
       "      <td>422528</td>\n",
       "      <td>419</td>\n",
       "      <td>97</td>\n",
       "      <td>47</td>\n",
       "      <td>52715</td>\n",
       "      <td>117</td>\n",
       "      <td>...</td>\n",
       "      <td>0.3402</td>\n",
       "      <td>0.6596</td>\n",
       "      <td>0.0</td>\n",
       "      <td>2.6222</td>\n",
       "      <td>1.5185</td>\n",
       "      <td>1.4914</td>\n",
       "      <td>-0.0606</td>\n",
       "      <td>-0.0171</td>\n",
       "      <td>0.9919</td>\n",
       "      <td>6</td>\n",
       "    </tr>\n",
       "    <tr>\n",
       "      <th>1940</th>\n",
       "      <td>1940</td>\n",
       "      <td>1261</td>\n",
       "      <td>1281</td>\n",
       "      <td>87951</td>\n",
       "      <td>87967</td>\n",
       "      <td>103</td>\n",
       "      <td>26</td>\n",
       "      <td>22</td>\n",
       "      <td>11682</td>\n",
       "      <td>101</td>\n",
       "      <td>...</td>\n",
       "      <td>0.7692</td>\n",
       "      <td>0.7273</td>\n",
       "      <td>0.0</td>\n",
       "      <td>2.0128</td>\n",
       "      <td>1.3010</td>\n",
       "      <td>1.2041</td>\n",
       "      <td>-0.2000</td>\n",
       "      <td>-0.1139</td>\n",
       "      <td>0.5296</td>\n",
       "      <td>6</td>\n",
       "    </tr>\n",
       "  </tbody>\n",
       "</table>\n",
       "<p>1941 rows × 29 columns</p>\n",
       "</div>"
      ],
      "text/plain": [
       "      Unnamed: 0  X_Minimum  X_Maximum  Y_Minimum  Y_Maximum  Pixels_Areas  \\\n",
       "0              0         42         50     270900     270944           267   \n",
       "1              1        645        651    2538079    2538108           108   \n",
       "2              2        829        835    1553913    1553931            71   \n",
       "3              3        853        860     369370     369415           176   \n",
       "4              4       1289       1306     498078     498335          2409   \n",
       "...          ...        ...        ...        ...        ...           ...   \n",
       "1936        1936        249        277     325780     325796           273   \n",
       "1937        1937        144        175     340581     340598           287   \n",
       "1938        1938        145        174     386779     386794           292   \n",
       "1939        1939        137        170     422497     422528           419   \n",
       "1940        1940       1261       1281      87951      87967           103   \n",
       "\n",
       "      X_Perimeter  Y_Perimeter  Sum_of_Luminosity  Minimum_of_Luminosity  ...  \\\n",
       "0              17           44              24220                     76  ...   \n",
       "1              10           30              11397                     84  ...   \n",
       "2               8           19               7972                     99  ...   \n",
       "3              13           45              18996                     99  ...   \n",
       "4              60          260             246930                     37  ...   \n",
       "...           ...          ...                ...                    ...  ...   \n",
       "1936           54           22              35033                    119  ...   \n",
       "1937           44           24              34599                    112  ...   \n",
       "1938           40           22              37572                    120  ...   \n",
       "1939           97           47              52715                    117  ...   \n",
       "1940           26           22              11682                    101  ...   \n",
       "\n",
       "      Edges_X_Index  Edges_Y_Index  Outside_Global_Index  LogOfAreas  \\\n",
       "0            0.4706         1.0000                   1.0      2.4265   \n",
       "1            0.6000         0.9667                   1.0      2.0334   \n",
       "2            0.7500         0.9474                   1.0      1.8513   \n",
       "3            0.5385         1.0000                   1.0      2.2455   \n",
       "4            0.2833         0.9885                   1.0      3.3818   \n",
       "...             ...            ...                   ...         ...   \n",
       "1936         0.5185         0.7273                   0.0      2.4362   \n",
       "1937         0.7046         0.7083                   0.0      2.4579   \n",
       "1938         0.7250         0.6818                   0.0      2.4654   \n",
       "1939         0.3402         0.6596                   0.0      2.6222   \n",
       "1940         0.7692         0.7273                   0.0      2.0128   \n",
       "\n",
       "      Log_X_Index  Log_Y_Index  Orientation_Index  Luminosity_Index  \\\n",
       "0          0.9031       1.6435             0.8182           -0.2913   \n",
       "1          0.7782       1.4624             0.7931           -0.1756   \n",
       "2          0.7782       1.2553             0.6667           -0.1228   \n",
       "3          0.8451       1.6532             0.8444           -0.1568   \n",
       "4          1.2305       2.4099             0.9338           -0.1992   \n",
       "...           ...          ...                ...               ...   \n",
       "1936       1.4472       1.2041            -0.4286            0.0026   \n",
       "1937       1.4914       1.2305            -0.4516           -0.0582   \n",
       "1938       1.4624       1.1761            -0.4828            0.0052   \n",
       "1939       1.5185       1.4914            -0.0606           -0.0171   \n",
       "1940       1.3010       1.2041            -0.2000           -0.1139   \n",
       "\n",
       "      SigmoidOfAreas  Labels  \n",
       "0             0.5822       0  \n",
       "1             0.2984       0  \n",
       "2             0.2150       0  \n",
       "3             0.5212       0  \n",
       "4             1.0000       0  \n",
       "...              ...     ...  \n",
       "1936          0.7254       6  \n",
       "1937          0.8173       6  \n",
       "1938          0.7079       6  \n",
       "1939          0.9919       6  \n",
       "1940          0.5296       6  \n",
       "\n",
       "[1941 rows x 29 columns]"
      ]
     },
     "execution_count": 5,
     "metadata": {},
     "output_type": "execute_result"
    }
   ],
   "source": [
    "df"
   ]
  },
  {
   "cell_type": "code",
   "execution_count": 9,
   "metadata": {},
   "outputs": [
    {
     "name": "stdout",
     "output_type": "stream",
     "text": [
      "<class 'pandas.core.frame.DataFrame'>\n",
      "RangeIndex: 1941 entries, 0 to 1940\n",
      "Data columns (total 29 columns):\n",
      " #   Column                 Non-Null Count  Dtype  \n",
      "---  ------                 --------------  -----  \n",
      " 0   Unnamed: 0             1941 non-null   int64  \n",
      " 1   X_Minimum              1941 non-null   int64  \n",
      " 2   X_Maximum              1941 non-null   int64  \n",
      " 3   Y_Minimum              1941 non-null   int64  \n",
      " 4   Y_Maximum              1941 non-null   int64  \n",
      " 5   Pixels_Areas           1941 non-null   int64  \n",
      " 6   X_Perimeter            1941 non-null   int64  \n",
      " 7   Y_Perimeter            1941 non-null   int64  \n",
      " 8   Sum_of_Luminosity      1941 non-null   int64  \n",
      " 9   Minimum_of_Luminosity  1941 non-null   int64  \n",
      " 10  Maximum_of_Luminosity  1941 non-null   int64  \n",
      " 11  Length_of_Conveyer     1941 non-null   int64  \n",
      " 12  TypeOfSteel_A300       1941 non-null   int64  \n",
      " 13  TypeOfSteel_A400       1941 non-null   int64  \n",
      " 14  Steel_Plate_Thickness  1941 non-null   int64  \n",
      " 15  Edges_Index            1941 non-null   float64\n",
      " 16  Empty_Index            1941 non-null   float64\n",
      " 17  Square_Index           1941 non-null   float64\n",
      " 18  Outside_X_Index        1941 non-null   float64\n",
      " 19  Edges_X_Index          1941 non-null   float64\n",
      " 20  Edges_Y_Index          1941 non-null   float64\n",
      " 21  Outside_Global_Index   1941 non-null   float64\n",
      " 22  LogOfAreas             1941 non-null   float64\n",
      " 23  Log_X_Index            1941 non-null   float64\n",
      " 24  Log_Y_Index            1941 non-null   float64\n",
      " 25  Orientation_Index      1941 non-null   float64\n",
      " 26  Luminosity_Index       1941 non-null   float64\n",
      " 27  SigmoidOfAreas         1941 non-null   float64\n",
      " 28  Labels                 1941 non-null   int64  \n",
      "dtypes: float64(13), int64(16)\n",
      "memory usage: 439.9 KB\n"
     ]
    }
   ],
   "source": [
    "df.info()"
   ]
  },
  {
   "cell_type": "code",
   "execution_count": 6,
   "metadata": {},
   "outputs": [
    {
     "data": {
      "text/plain": [
       "<AxesSubplot:xlabel='Labels', ylabel='count'>"
      ]
     },
     "execution_count": 6,
     "metadata": {},
     "output_type": "execute_result"
    },
    {
     "data": {
      "image/png": "[encoded data removed]",
      "text/plain": [
       "<Figure size 576x504 with 1 Axes>"
      ]
     },
     "metadata": {},
     "output_type": "display_data"
    }
   ],
   "source": [
    "sns.countplot(x=\"Labels\", data=df)"
   ]
  },
  {
   "cell_type": "code",
   "execution_count": 7,
   "metadata": {},
   "outputs": [
    {
     "data": {
      "text/plain": [
       "<AxesSubplot:>"
      ]
     },
     "execution_count": 7,
     "metadata": {},
     "output_type": "execute_result"
    },
    {
     "data": {
      "image/png": "[encoded data removed]",
      "text/plain": [
       "<Figure size 576x504 with 1 Axes>"
      ]
     },
     "metadata": {},
     "output_type": "display_data"
    }
   ],
   "source": [
    "df.corr()['Labels'].sort_values().plot(kind='bar')"
   ]
  },
  {
   "cell_type": "markdown",
   "metadata": {
    "id": "cPtoJ1mdKyuT"
   },
   "source": [
    "## **Milestone 2**\n",
    "\n",
    "*   Data preprocessing\n",
    "*   Train-test-split\n",
    "*   Categorize labels"
   ]
  },
  {
   "cell_type": "code",
   "execution_count": 10,
   "metadata": {
    "id": "i8J_kHUxNMhJ"
   },
   "outputs": [],
   "source": [
    "X = df.drop('Labels', axis = 1).values\n",
    "y = df['Labels'].values"
   ]
  },
  {
   "cell_type": "code",
   "execution_count": 11,
   "metadata": {},
   "outputs": [],
   "source": [
    "from sklearn.model_selection import train_test_split\n",
    "X_train, X_test, y_train, y_test = train_test_split(X, y, test_size=0.25, random_state=101)"
   ]
  },
  {
   "cell_type": "code",
   "execution_count": 12,
   "metadata": {},
   "outputs": [],
   "source": [
    "from sklearn.preprocessing import MinMaxScaler\n",
    "scaler = MinMaxScaler()\n",
    "X_train = scaler.fit_transform(X_train)\n",
    "X_test = scaler.transform(X_test)"
   ]
  },
  {
   "cell_type": "code",
   "execution_count": 15,
   "metadata": {},
   "outputs": [
    {
     "data": {
      "text/plain": [
       "(1455,)"
      ]
     },
     "execution_count": 15,
     "metadata": {},
     "output_type": "execute_result"
    }
   ],
   "source": [
    "from tensorflow.keras.utils import to_categorical\n",
    "y_train.shape"
   ]
  },
  {
   "cell_type": "code",
   "execution_count": 16,
   "metadata": {},
   "outputs": [],
   "source": [
    "y_cat_test = to_categorical(y_test,7)\n",
    "y_cat_train = to_categorical(y_train,7)"
   ]
  },
  {
   "cell_type": "markdown",
   "metadata": {
    "id": "ueMIzizDNHLG"
   },
   "source": [
    "## **Milestone 3**\n",
    "\n",
    "*   Network architecture\n",
    "*   Train network"
   ]
  },
  {
   "cell_type": "code",
   "execution_count": 22,
   "metadata": {
    "id": "BwFRr6KN3ceW"
   },
   "outputs": [],
   "source": [
    "from tensorflow.keras.models import Sequential \n",
    "from tensorflow.keras.layers import Dense, Dropout\n",
    "from tensorflow.keras.callbacks import EarlyStopping"
   ]
  },
  {
   "cell_type": "code",
   "execution_count": 14,
   "metadata": {},
   "outputs": [
    {
     "data": {
      "text/plain": [
       "(1455, 28)"
      ]
     },
     "execution_count": 14,
     "metadata": {},
     "output_type": "execute_result"
    }
   ],
   "source": [
    "X_train.shape"
   ]
  },
  {
   "cell_type": "code",
   "execution_count": 48,
   "metadata": {},
   "outputs": [],
   "source": [
    "model = Sequential() \n",
    "model.add(Dense(28, activation = 'relu'))\n",
    "model.add(Dense(15, activation = 'relu'))\n",
    "model.add(Dropout(0.1))\n",
    "model.add(Dense(15, activation = 'relu'))\n",
    "model.add(Dropout(0.1))\n",
    "model.add(Dense(15, activation = 'relu'))\n",
    "\n",
    "model.add(Dense(7, activation = 'softmax')) \n",
    "\n",
    "model.compile(optimizer = 'adam', loss='categorical_crossentropy', metrics = ['accuracy'])"
   ]
  },
  {
   "cell_type": "code",
   "execution_count": 49,
   "metadata": {},
   "outputs": [],
   "source": [
    "early_stop = EarlyStopping(monitor='val_loss',patience=10)"
   ]
  },
  {
   "cell_type": "code",
   "execution_count": null,
   "metadata": {},
   "outputs": [],
   "source": [
    "# training time variation between 10 to 600 seconds"
   ]
  },
  {
   "cell_type": "code",
   "execution_count": 50,
   "metadata": {},
   "outputs": [
    {
     "name": "stdout",
     "output_type": "stream",
     "text": [
      "Epoch 1/100\n",
      "46/46 [==============================] - 1s 6ms/step - loss: 1.8188 - accuracy: 0.3258 - val_loss: 1.6813 - val_accuracy: 0.3210\n",
      "Epoch 2/100\n",
      "46/46 [==============================] - 0s 4ms/step - loss: 1.5367 - accuracy: 0.4433 - val_loss: 1.4418 - val_accuracy: 0.5062\n",
      "Epoch 3/100\n",
      "46/46 [==============================] - 0s 4ms/step - loss: 1.2767 - accuracy: 0.5333 - val_loss: 1.1925 - val_accuracy: 0.5514\n",
      "Epoch 4/100\n",
      "46/46 [==============================] - 0s 4ms/step - loss: 1.0675 - accuracy: 0.5835 - val_loss: 0.9975 - val_accuracy: 0.5926\n",
      "Epoch 5/100\n",
      "46/46 [==============================] - 0s 3ms/step - loss: 0.9181 - accuracy: 0.6536 - val_loss: 0.8423 - val_accuracy: 0.7078\n",
      "Epoch 6/100\n",
      "46/46 [==============================] - 0s 3ms/step - loss: 0.7641 - accuracy: 0.7326 - val_loss: 0.7169 - val_accuracy: 0.7407\n",
      "Epoch 7/100\n",
      "46/46 [==============================] - 0s 3ms/step - loss: 0.6634 - accuracy: 0.7505 - val_loss: 0.6248 - val_accuracy: 0.7737\n",
      "Epoch 8/100\n",
      "46/46 [==============================] - 0s 3ms/step - loss: 0.6158 - accuracy: 0.7711 - val_loss: 0.5688 - val_accuracy: 0.7922\n",
      "Epoch 9/100\n",
      "46/46 [==============================] - 0s 3ms/step - loss: 0.5527 - accuracy: 0.7973 - val_loss: 0.5143 - val_accuracy: 0.8045\n",
      "Epoch 10/100\n",
      "46/46 [==============================] - 0s 3ms/step - loss: 0.5195 - accuracy: 0.7966 - val_loss: 0.5073 - val_accuracy: 0.8045\n",
      "Epoch 11/100\n",
      "46/46 [==============================] - 0s 3ms/step - loss: 0.4761 - accuracy: 0.8213 - val_loss: 0.4568 - val_accuracy: 0.8086\n",
      "Epoch 12/100\n",
      "46/46 [==============================] - 0s 3ms/step - loss: 0.4484 - accuracy: 0.8254 - val_loss: 0.4530 - val_accuracy: 0.8354\n",
      "Epoch 13/100\n",
      "46/46 [==============================] - 0s 3ms/step - loss: 0.4460 - accuracy: 0.8296 - val_loss: 0.3940 - val_accuracy: 0.8354\n",
      "Epoch 14/100\n",
      "46/46 [==============================] - 0s 3ms/step - loss: 0.4170 - accuracy: 0.8419 - val_loss: 0.3555 - val_accuracy: 0.8827\n",
      "Epoch 15/100\n",
      "46/46 [==============================] - 0s 3ms/step - loss: 0.4006 - accuracy: 0.8522 - val_loss: 0.3403 - val_accuracy: 0.8848\n",
      "Epoch 16/100\n",
      "46/46 [==============================] - 0s 3ms/step - loss: 0.3730 - accuracy: 0.8708 - val_loss: 0.3331 - val_accuracy: 0.8827\n",
      "Epoch 17/100\n",
      "46/46 [==============================] - 0s 3ms/step - loss: 0.3555 - accuracy: 0.8742 - val_loss: 0.2969 - val_accuracy: 0.9074\n",
      "Epoch 18/100\n",
      "46/46 [==============================] - 0s 3ms/step - loss: 0.3500 - accuracy: 0.8687 - val_loss: 0.2862 - val_accuracy: 0.9136\n",
      "Epoch 19/100\n",
      "46/46 [==============================] - 0s 3ms/step - loss: 0.3296 - accuracy: 0.8790 - val_loss: 0.2824 - val_accuracy: 0.9074\n",
      "Epoch 20/100\n",
      "46/46 [==============================] - 0s 3ms/step - loss: 0.3220 - accuracy: 0.8729 - val_loss: 0.2555 - val_accuracy: 0.9239\n",
      "Epoch 21/100\n",
      "46/46 [==============================] - 0s 3ms/step - loss: 0.3289 - accuracy: 0.8790 - val_loss: 0.3293 - val_accuracy: 0.8539\n",
      "Epoch 22/100\n",
      "46/46 [==============================] - 0s 3ms/step - loss: 0.2883 - accuracy: 0.8942 - val_loss: 0.2361 - val_accuracy: 0.9321\n",
      "Epoch 23/100\n",
      "46/46 [==============================] - 0s 3ms/step - loss: 0.2819 - accuracy: 0.8928 - val_loss: 0.2258 - val_accuracy: 0.9465\n",
      "Epoch 24/100\n",
      "46/46 [==============================] - 0s 3ms/step - loss: 0.2950 - accuracy: 0.8859 - val_loss: 0.2274 - val_accuracy: 0.9444\n",
      "Epoch 25/100\n",
      "46/46 [==============================] - 0s 3ms/step - loss: 0.2606 - accuracy: 0.9065 - val_loss: 0.2317 - val_accuracy: 0.9239\n",
      "Epoch 26/100\n",
      "46/46 [==============================] - 0s 3ms/step - loss: 0.2824 - accuracy: 0.8942 - val_loss: 0.2137 - val_accuracy: 0.9342\n",
      "Epoch 27/100\n",
      "46/46 [==============================] - 0s 3ms/step - loss: 0.2523 - accuracy: 0.9155 - val_loss: 0.2043 - val_accuracy: 0.9362\n",
      "Epoch 28/100\n",
      "46/46 [==============================] - 0s 3ms/step - loss: 0.2443 - accuracy: 0.9155 - val_loss: 0.2019 - val_accuracy: 0.9444\n",
      "Epoch 29/100\n",
      "46/46 [==============================] - 0s 3ms/step - loss: 0.2392 - accuracy: 0.9141 - val_loss: 0.1997 - val_accuracy: 0.9342\n",
      "Epoch 30/100\n",
      "46/46 [==============================] - 0s 3ms/step - loss: 0.2310 - accuracy: 0.9210 - val_loss: 0.1856 - val_accuracy: 0.9568\n",
      "Epoch 31/100\n",
      "46/46 [==============================] - 0s 4ms/step - loss: 0.2361 - accuracy: 0.9162 - val_loss: 0.1879 - val_accuracy: 0.9506\n",
      "Epoch 32/100\n",
      "46/46 [==============================] - 0s 3ms/step - loss: 0.2217 - accuracy: 0.9196 - val_loss: 0.2372 - val_accuracy: 0.9198\n",
      "Epoch 33/100\n",
      "46/46 [==============================] - 0s 3ms/step - loss: 0.2093 - accuracy: 0.9265 - val_loss: 0.1846 - val_accuracy: 0.9444\n",
      "Epoch 34/100\n",
      "46/46 [==============================] - 0s 3ms/step - loss: 0.2002 - accuracy: 0.9340 - val_loss: 0.2166 - val_accuracy: 0.9239\n",
      "Epoch 35/100\n",
      "46/46 [==============================] - 0s 3ms/step - loss: 0.2168 - accuracy: 0.9230 - val_loss: 0.1817 - val_accuracy: 0.9547\n",
      "Epoch 36/100\n",
      "46/46 [==============================] - 0s 3ms/step - loss: 0.2082 - accuracy: 0.9258 - val_loss: 0.1766 - val_accuracy: 0.9547\n",
      "Epoch 37/100\n",
      "46/46 [==============================] - 0s 3ms/step - loss: 0.2015 - accuracy: 0.9285 - val_loss: 0.1757 - val_accuracy: 0.9527\n",
      "Epoch 38/100\n",
      "46/46 [==============================] - 0s 3ms/step - loss: 0.1900 - accuracy: 0.9320 - val_loss: 0.1742 - val_accuracy: 0.9444\n",
      "Epoch 39/100\n",
      "46/46 [==============================] - 0s 3ms/step - loss: 0.1876 - accuracy: 0.9361 - val_loss: 0.2177 - val_accuracy: 0.9239\n",
      "Epoch 40/100\n",
      "46/46 [==============================] - 0s 3ms/step - loss: 0.1836 - accuracy: 0.9340 - val_loss: 0.1591 - val_accuracy: 0.9527\n",
      "Epoch 41/100\n",
      "46/46 [==============================] - 0s 3ms/step - loss: 0.1797 - accuracy: 0.9347 - val_loss: 0.1899 - val_accuracy: 0.9424\n",
      "Epoch 42/100\n",
      "46/46 [==============================] - 0s 3ms/step - loss: 0.1735 - accuracy: 0.9423 - val_loss: 0.1577 - val_accuracy: 0.9547\n",
      "Epoch 43/100\n",
      "46/46 [==============================] - 0s 3ms/step - loss: 0.1745 - accuracy: 0.9402 - val_loss: 0.1567 - val_accuracy: 0.9527\n",
      "Epoch 44/100\n",
      "46/46 [==============================] - 0s 3ms/step - loss: 0.1760 - accuracy: 0.9381 - val_loss: 0.1626 - val_accuracy: 0.9527\n",
      "Epoch 45/100\n",
      "46/46 [==============================] - 0s 3ms/step - loss: 0.1604 - accuracy: 0.9402 - val_loss: 0.1466 - val_accuracy: 0.9609\n",
      "Epoch 46/100\n",
      "46/46 [==============================] - 0s 3ms/step - loss: 0.1415 - accuracy: 0.9485 - val_loss: 0.1749 - val_accuracy: 0.9403\n",
      "Epoch 47/100\n",
      "46/46 [==============================] - 0s 3ms/step - loss: 0.1560 - accuracy: 0.9375 - val_loss: 0.1570 - val_accuracy: 0.9568\n",
      "Epoch 48/100\n",
      "46/46 [==============================] - 0s 3ms/step - loss: 0.1665 - accuracy: 0.9457 - val_loss: 0.1480 - val_accuracy: 0.9527\n",
      "Epoch 49/100\n",
      "46/46 [==============================] - 0s 3ms/step - loss: 0.1565 - accuracy: 0.9450 - val_loss: 0.1642 - val_accuracy: 0.9444\n",
      "Epoch 50/100\n",
      "46/46 [==============================] - 0s 3ms/step - loss: 0.1359 - accuracy: 0.9526 - val_loss: 0.1748 - val_accuracy: 0.9403\n",
      "Epoch 51/100\n",
      "46/46 [==============================] - 0s 3ms/step - loss: 0.1377 - accuracy: 0.9581 - val_loss: 0.1473 - val_accuracy: 0.9547\n",
      "Epoch 52/100\n",
      "46/46 [==============================] - 0s 3ms/step - loss: 0.1461 - accuracy: 0.9540 - val_loss: 0.1472 - val_accuracy: 0.9547\n",
      "Epoch 53/100\n",
      "46/46 [==============================] - 0s 3ms/step - loss: 0.1355 - accuracy: 0.9588 - val_loss: 0.1442 - val_accuracy: 0.9506\n",
      "Epoch 54/100\n",
      "46/46 [==============================] - 0s 3ms/step - loss: 0.1236 - accuracy: 0.9615 - val_loss: 0.1528 - val_accuracy: 0.9465\n",
      "Epoch 55/100\n",
      "46/46 [==============================] - 0s 3ms/step - loss: 0.1375 - accuracy: 0.9457 - val_loss: 0.1376 - val_accuracy: 0.9630\n",
      "Epoch 56/100\n",
      "46/46 [==============================] - 0s 3ms/step - loss: 0.1416 - accuracy: 0.9485 - val_loss: 0.1458 - val_accuracy: 0.9547\n",
      "Epoch 57/100\n",
      "46/46 [==============================] - 0s 3ms/step - loss: 0.1264 - accuracy: 0.9588 - val_loss: 0.1427 - val_accuracy: 0.9465\n",
      "Epoch 58/100\n",
      "46/46 [==============================] - 0s 3ms/step - loss: 0.1204 - accuracy: 0.9601 - val_loss: 0.1527 - val_accuracy: 0.9527\n"
     ]
    },
    {
     "name": "stdout",
     "output_type": "stream",
     "text": [
      "Epoch 59/100\n",
      "46/46 [==============================] - 0s 3ms/step - loss: 0.1214 - accuracy: 0.9553 - val_loss: 0.1378 - val_accuracy: 0.9609\n",
      "Epoch 60/100\n",
      "46/46 [==============================] - 0s 3ms/step - loss: 0.1159 - accuracy: 0.9581 - val_loss: 0.1355 - val_accuracy: 0.9547\n",
      "Epoch 61/100\n",
      "46/46 [==============================] - 0s 3ms/step - loss: 0.1195 - accuracy: 0.9567 - val_loss: 0.1298 - val_accuracy: 0.9609\n",
      "Epoch 62/100\n",
      "46/46 [==============================] - 0s 3ms/step - loss: 0.1054 - accuracy: 0.9691 - val_loss: 0.1330 - val_accuracy: 0.9568\n",
      "Epoch 63/100\n",
      "46/46 [==============================] - 0s 3ms/step - loss: 0.1185 - accuracy: 0.9588 - val_loss: 0.1300 - val_accuracy: 0.9588\n",
      "Epoch 64/100\n",
      "46/46 [==============================] - 0s 3ms/step - loss: 0.1179 - accuracy: 0.9595 - val_loss: 0.1661 - val_accuracy: 0.9424\n",
      "Epoch 65/100\n",
      "46/46 [==============================] - 0s 3ms/step - loss: 0.1134 - accuracy: 0.9615 - val_loss: 0.1286 - val_accuracy: 0.9588\n",
      "Epoch 66/100\n",
      "46/46 [==============================] - 0s 3ms/step - loss: 0.1293 - accuracy: 0.9553 - val_loss: 0.1297 - val_accuracy: 0.9650\n",
      "Epoch 67/100\n",
      "46/46 [==============================] - 0s 3ms/step - loss: 0.1264 - accuracy: 0.9546 - val_loss: 0.1227 - val_accuracy: 0.9547\n",
      "Epoch 68/100\n",
      "46/46 [==============================] - 0s 3ms/step - loss: 0.1051 - accuracy: 0.9622 - val_loss: 0.1231 - val_accuracy: 0.9671\n",
      "Epoch 69/100\n",
      "46/46 [==============================] - 0s 3ms/step - loss: 0.1112 - accuracy: 0.9595 - val_loss: 0.1244 - val_accuracy: 0.9630\n",
      "Epoch 70/100\n",
      "46/46 [==============================] - 0s 3ms/step - loss: 0.0985 - accuracy: 0.9670 - val_loss: 0.1237 - val_accuracy: 0.9630\n",
      "Epoch 71/100\n",
      "46/46 [==============================] - 0s 3ms/step - loss: 0.0891 - accuracy: 0.9677 - val_loss: 0.1257 - val_accuracy: 0.9609\n",
      "Epoch 72/100\n",
      "46/46 [==============================] - 0s 3ms/step - loss: 0.1121 - accuracy: 0.9643 - val_loss: 0.2341 - val_accuracy: 0.9136\n",
      "Epoch 73/100\n",
      "46/46 [==============================] - 0s 3ms/step - loss: 0.1151 - accuracy: 0.9546 - val_loss: 0.1305 - val_accuracy: 0.9609\n",
      "Epoch 74/100\n",
      "46/46 [==============================] - 0s 3ms/step - loss: 0.1055 - accuracy: 0.9608 - val_loss: 0.1246 - val_accuracy: 0.9609\n",
      "Epoch 75/100\n",
      "46/46 [==============================] - 0s 3ms/step - loss: 0.0927 - accuracy: 0.9656 - val_loss: 0.1155 - val_accuracy: 0.9691\n",
      "Epoch 76/100\n",
      "46/46 [==============================] - 0s 3ms/step - loss: 0.1067 - accuracy: 0.9636 - val_loss: 0.1405 - val_accuracy: 0.9527\n",
      "Epoch 77/100\n",
      "46/46 [==============================] - 0s 3ms/step - loss: 0.1133 - accuracy: 0.9622 - val_loss: 0.1293 - val_accuracy: 0.9588\n",
      "Epoch 78/100\n",
      "46/46 [==============================] - 0s 3ms/step - loss: 0.0906 - accuracy: 0.9684 - val_loss: 0.1216 - val_accuracy: 0.9588\n",
      "Epoch 79/100\n",
      "46/46 [==============================] - 0s 3ms/step - loss: 0.0847 - accuracy: 0.9711 - val_loss: 0.1155 - val_accuracy: 0.9609\n",
      "Epoch 80/100\n",
      "46/46 [==============================] - 0s 3ms/step - loss: 0.0959 - accuracy: 0.9649 - val_loss: 0.1229 - val_accuracy: 0.9568\n",
      "Epoch 81/100\n",
      "46/46 [==============================] - 0s 3ms/step - loss: 0.1005 - accuracy: 0.9663 - val_loss: 0.1198 - val_accuracy: 0.9630\n",
      "Epoch 82/100\n",
      "46/46 [==============================] - 0s 3ms/step - loss: 0.0985 - accuracy: 0.9663 - val_loss: 0.1218 - val_accuracy: 0.9630\n",
      "Epoch 83/100\n",
      "46/46 [==============================] - 0s 3ms/step - loss: 0.0866 - accuracy: 0.9691 - val_loss: 0.1165 - val_accuracy: 0.9588\n",
      "Epoch 84/100\n",
      "46/46 [==============================] - 0s 3ms/step - loss: 0.0906 - accuracy: 0.9691 - val_loss: 0.1197 - val_accuracy: 0.9547\n",
      "Epoch 85/100\n",
      "46/46 [==============================] - 0s 4ms/step - loss: 0.0953 - accuracy: 0.9670 - val_loss: 0.1192 - val_accuracy: 0.9609\n",
      "Wall time: 12.5 s\n"
     ]
    },
    {
     "data": {
      "text/plain": [
       "<tensorflow.python.keras.callbacks.History at 0x1d9e8973310>"
      ]
     },
     "execution_count": 50,
     "metadata": {},
     "output_type": "execute_result"
    }
   ],
   "source": [
    "%%time \n",
    "model.fit(x=X_train, \n",
    "          y=y_cat_train,\n",
    "          epochs=100, \n",
    "          validation_data=(X_test,y_cat_test), \n",
    "          callbacks=[early_stop])"
   ]
  },
  {
   "cell_type": "markdown",
   "metadata": {
    "id": "9SVuqTsyOoUp"
   },
   "source": [
    "## **Milestone 4**\n",
    "\n",
    "\n",
    "\n",
    "*   Evaluate AI performance\n",
    "*   Test AI\n",
    "*   Save Model\n",
    "\n"
   ]
  },
  {
   "cell_type": "code",
   "execution_count": 46,
   "metadata": {
    "id": "dflXWGzSOovR"
   },
   "outputs": [
    {
     "data": {
      "text/html": [
       "<div>\n",
       "<style scoped>\n",
       "    .dataframe tbody tr th:only-of-type {\n",
       "        vertical-align: middle;\n",
       "    }\n",
       "\n",
       "    .dataframe tbody tr th {\n",
       "        vertical-align: top;\n",
       "    }\n",
       "\n",
       "    .dataframe thead th {\n",
       "        text-align: right;\n",
       "    }\n",
       "</style>\n",
       "<table border=\"1\" class=\"dataframe\">\n",
       "  <thead>\n",
       "    <tr style=\"text-align: right;\">\n",
       "      <th></th>\n",
       "      <th>loss</th>\n",
       "      <th>accuracy</th>\n",
       "      <th>val_loss</th>\n",
       "      <th>val_accuracy</th>\n",
       "    </tr>\n",
       "  </thead>\n",
       "  <tbody>\n",
       "    <tr>\n",
       "      <th>0</th>\n",
       "      <td>1.905289</td>\n",
       "      <td>0.205498</td>\n",
       "      <td>1.836833</td>\n",
       "      <td>0.181070</td>\n",
       "    </tr>\n",
       "    <tr>\n",
       "      <th>1</th>\n",
       "      <td>1.686561</td>\n",
       "      <td>0.221993</td>\n",
       "      <td>1.608241</td>\n",
       "      <td>0.304527</td>\n",
       "    </tr>\n",
       "    <tr>\n",
       "      <th>2</th>\n",
       "      <td>1.448635</td>\n",
       "      <td>0.439863</td>\n",
       "      <td>1.441159</td>\n",
       "      <td>0.460905</td>\n",
       "    </tr>\n",
       "    <tr>\n",
       "      <th>3</th>\n",
       "      <td>1.306895</td>\n",
       "      <td>0.500344</td>\n",
       "      <td>1.339800</td>\n",
       "      <td>0.450617</td>\n",
       "    </tr>\n",
       "    <tr>\n",
       "      <th>4</th>\n",
       "      <td>1.199378</td>\n",
       "      <td>0.523024</td>\n",
       "      <td>1.207838</td>\n",
       "      <td>0.543210</td>\n",
       "    </tr>\n",
       "    <tr>\n",
       "      <th>...</th>\n",
       "      <td>...</td>\n",
       "      <td>...</td>\n",
       "      <td>...</td>\n",
       "      <td>...</td>\n",
       "    </tr>\n",
       "    <tr>\n",
       "      <th>95</th>\n",
       "      <td>0.068358</td>\n",
       "      <td>0.980069</td>\n",
       "      <td>0.116778</td>\n",
       "      <td>0.971193</td>\n",
       "    </tr>\n",
       "    <tr>\n",
       "      <th>96</th>\n",
       "      <td>0.070023</td>\n",
       "      <td>0.973883</td>\n",
       "      <td>0.100994</td>\n",
       "      <td>0.975309</td>\n",
       "    </tr>\n",
       "    <tr>\n",
       "      <th>97</th>\n",
       "      <td>0.074600</td>\n",
       "      <td>0.975258</td>\n",
       "      <td>0.109919</td>\n",
       "      <td>0.973251</td>\n",
       "    </tr>\n",
       "    <tr>\n",
       "      <th>98</th>\n",
       "      <td>0.077799</td>\n",
       "      <td>0.976632</td>\n",
       "      <td>0.111827</td>\n",
       "      <td>0.971193</td>\n",
       "    </tr>\n",
       "    <tr>\n",
       "      <th>99</th>\n",
       "      <td>0.087081</td>\n",
       "      <td>0.964261</td>\n",
       "      <td>0.110248</td>\n",
       "      <td>0.975309</td>\n",
       "    </tr>\n",
       "  </tbody>\n",
       "</table>\n",
       "<p>100 rows × 4 columns</p>\n",
       "</div>"
      ],
      "text/plain": [
       "        loss  accuracy  val_loss  val_accuracy\n",
       "0   1.905289  0.205498  1.836833      0.181070\n",
       "1   1.686561  0.221993  1.608241      0.304527\n",
       "2   1.448635  0.439863  1.441159      0.460905\n",
       "3   1.306895  0.500344  1.339800      0.450617\n",
       "4   1.199378  0.523024  1.207838      0.543210\n",
       "..       ...       ...       ...           ...\n",
       "95  0.068358  0.980069  0.116778      0.971193\n",
       "96  0.070023  0.973883  0.100994      0.975309\n",
       "97  0.074600  0.975258  0.109919      0.973251\n",
       "98  0.077799  0.976632  0.111827      0.971193\n",
       "99  0.087081  0.964261  0.110248      0.975309\n",
       "\n",
       "[100 rows x 4 columns]"
      ]
     },
     "execution_count": 46,
     "metadata": {},
     "output_type": "execute_result"
    }
   ],
   "source": [
    "losses = pd.DataFrame(model.history.history)\n",
    "losses"
   ]
  },
  {
   "cell_type": "code",
   "execution_count": 47,
   "metadata": {},
   "outputs": [
    {
     "data": {
      "text/plain": [
       "<AxesSubplot:>"
      ]
     },
     "execution_count": 47,
     "metadata": {},
     "output_type": "execute_result"
    },
    {
     "data": {
      "image/png": "[encoded data removed]",
      "text/plain": [
       "<Figure size 576x504 with 1 Axes>"
      ]
     },
     "metadata": {},
     "output_type": "display_data"
    }
   ],
   "source": [
    "losses.plot()"
   ]
  },
  {
   "cell_type": "code",
   "execution_count": null,
   "metadata": {},
   "outputs": [],
   "source": []
  }
 ],
 "metadata": {
  "colab": {
   "collapsed_sections": [],
   "name": "Defect Classification.ipynb",
   "provenance": []
  },
  "kernelspec": {
   "display_name": "Python 3",
   "language": "python",
   "name": "python3"
  },
  "language_info": {
   "codemirror_mode": {
    "name": "ipython",
    "version": 3
   },
   "file_extension": ".py",
   "mimetype": "text/x-python",
   "name": "python",
   "nbconvert_exporter": "python",
   "pygments_lexer": "ipython3",
   "version": "3.8.10"
  }
 },
 "nbformat": 4,
 "nbformat_minor": 1
}
